{
 "cells": [
  {
   "cell_type": "markdown",
   "metadata": {},
   "source": [
    "# Happy Number"
   ]
  },
  {
   "cell_type": "markdown",
   "metadata": {},
   "source": [
    "A number is called Happy if it leads to 1 after a sequence of steps wherein each step the number is replaced by\n",
    "the sum of square of its digits."
   ]
  },
  {
   "cell_type": "markdown",
   "metadata": {},
   "source": [
    "## List of Happy Nums [1-200]"
   ]
  },
  {
   "cell_type": "markdown",
   "metadata": {},
   "source": [
    "1, 7, 10, 13, 19, 23, 28, 31, 32, 44, 49, 68, 70, 79, 82, 86, 91, 94, 97, 100, 103, 109, 129, 130, 133, 139, 167, 176, 188, 190, 192, and 193"
   ]
  },
  {
   "cell_type": "markdown",
   "metadata": {},
   "source": [
    "### The problem"
   ]
  },
  {
   "cell_type": "markdown",
   "metadata": {},
   "source": [
    "We can tell why the number is Happy but, as we can see from the list that there is no clear PATTERN using which we can say that why a number is NOT Happy."
   ]
  },
  {
   "cell_type": "markdown",
   "metadata": {},
   "source": [
    "### Solving the problem"
   ]
  },
  {
   "cell_type": "markdown",
   "metadata": {},
   "source": [
    "To find the pattern for why one number is not happy, we will do the dry run for the number '7' and '3'."
   ]
  },
  {
   "cell_type": "markdown",
   "metadata": {},
   "source": [
    "#### Dry Run For (7):"
   ]
  },
  {
   "cell_type": "markdown",
   "metadata": {},
   "source": [
    "n = 7 <br>\n",
    "n = (7)^2 = 49 <br>\n",
    "n = (4)^2 + (9)^2 = 97 <br>\n",
    "n = (9)^2 + (7)^2 = 130 <br>\n",
    "n = (1)^2 + (3)^2 + 0 = 10 <br>\n",
    "n = (1)^2 + 0 = 1 <br>\n",
    "\n",
    "Result walkthrough: <br>\n",
    "n = 7 -> 49 -> 97 -> 130 -> 10 -> 1"
   ]
  },
  {
   "cell_type": "markdown",
   "metadata": {},
   "source": [
    "#### Dry Run For(3):"
   ]
  },
  {
   "cell_type": "markdown",
   "metadata": {},
   "source": [
    "n = 3 <br>\n",
    "n = (3)^2 = 9 <br>\n",
    "n = (9)^2 = 81 <br>\n",
    "n = (8)^2 + (1)^2 = 17 <br>\n",
    "n = (1)^2 + (7)^2 = 50 <br>\n",
    "n = (5)^2 + 0 = 25 <br>\n",
    "n = (2)^2 + (5)^2 = 29 <br>\n",
    "n = (2)^2 + (9)^2 = 85 <br>\n",
    "n = (8)^2 + (5)^2 = 41 <br>\n",
    "n = (4)^2 + (1)^2 = 9 <br>\n",
    "n = (9)^2 = 81 <br>\n",
    "n = (8)^2 + (1)^2 = 17 <br>\n",
    "n = (1)^2 + (7)^2 = 50 <br>\n",
    "\n",
    "Result walkthrough: <br>\n",
    "n = 3 -> 9 -> 81 -> 17 -> 50 -> 25 ->  29 -> 85 -> 41 -> 9 -> 81 -> 17 -> 50"
   ]
  },
  {
   "cell_type": "markdown",
   "metadata": {},
   "source": [
    "### Result:"
   ]
  },
  {
   "cell_type": "markdown",
   "metadata": {},
   "source": [
    "We have successfully found the pattern for knowing if the number is not happy which is, \"when we repeat the steps of a happy number on a non-happy number, the number starts repeating at some point.\" <br>\n",
    "For example, we can see that, for number 3, after a few steps, the number started repeating itself. <br>\n",
    "So, we will keep track of number and when it repeats upon applying the steps, we can tell that the number is not a Happy number."
   ]
  },
  {
   "cell_type": "markdown",
   "metadata": {},
   "source": [
    "# Algorithm of A Happy Number"
   ]
  },
  {
   "cell_type": "markdown",
   "metadata": {},
   "source": [
    "#### Algorithm HAPPY_NUM() \n",
    "###### Step-1: [Read Number] \n",
    "&emsp; Read num <br>\n",
    "###### Step-2: [Declare an empty list that will keep track of number] \n",
    "&emsp; num_Track_List = [] <br>\n",
    "###### Step-3: [Get sum of digitis of a number --- Using sub-algprithm]\n",
    "&emsp; digits_sum = GET_DIGITS_SUM(num) <br>\n",
    "###### Step-4: [Replace num with sum of its digits] <br>\n",
    "&emsp; num = digits_sum <br>\n",
    "###### Step-5: [Check if number is 1, Yes means number is happy -> break the loop] \n",
    "&emsp;  if num == 1 <br>\n",
    "&emsp;&emsp;  display \"Num is Happy\" <br>\n",
    "&emsp;&emsp;  break <br>\n",
    "###### Step-6: [Check if number is present in num_Track_List, YES will mean that the number is not a Happy number -> Break loop. add num otherwise] \n",
    "&emsp;  if num in num_Track_List <br>\n",
    "&emsp;&emsp;  display \"Not Happy\" <br>\n",
    "&emsp;&emsp;  break <br>\n",
    "&emsp;  else <br>\n",
    "&emsp;&emsp;  num_Track_List.add(num) <br>\n",
    "###### Step-7: [Loop Info] \n",
    "&emsp;  Repeat Step-3 to Step-7 unless get the answer, i.e; Happy or Not"
   ]
  },
  {
   "cell_type": "markdown",
   "metadata": {},
   "source": [
    "## Sub-Algorithm (GET_DIGITS_SUM)"
   ]
  },
  {
   "cell_type": "markdown",
   "metadata": {},
   "source": [
    "##### Sub-Algorithm GET_DIGITS_SUM(num)\n",
    "###### Step-1: [Declare a variable 'digits_sum' that holds sum of digits] \n",
    "    digits_sum = 0 <br>\n",
    "###### Step-2: [Get remainder of num] \n",
    "    remainder = num % 10 <br>\n",
    "###### Step-3: [Add square of remainder to digits_sum]-[Note: the value is added to previous value of digits_sum]\n",
    "    digits_sum = digits_sum + (remainder)^2 <br>\n",
    "###### Step-4: [Divide the num by 10 and replace it with the result]\n",
    "    num = num / 10\n",
    "###### Step-5: [Loop Info] \n",
    "    repeat Step-1 to Step-4 while num is not 0\n",
    "    "
   ]
  },
  {
   "cell_type": "markdown",
   "metadata": {},
   "source": [
    "# CODE"
   ]
  },
  {
   "cell_type": "code",
   "execution_count": 11,
   "metadata": {},
   "outputs": [
    {
     "name": "stdout",
     "output_type": "stream",
     "text": [
      "Enter a number : 6\n",
      "Number is NOT Happy\n"
     ]
    }
   ],
   "source": [
    "def getDigitsSum(num):\n",
    "    digitsSum = 0\n",
    "    while num != 0:\n",
    "        rem = num % 10\n",
    "        digitsSum = digitsSum + (rem * rem)\n",
    "        num = num // 10\n",
    "    return digitsSum\n",
    "\n",
    "num = int(input('Enter a number : '))\n",
    "numTrackList = []\n",
    "while(True):\n",
    "    digitsSum = getDigitsSum(num)\n",
    "    num = digitsSum\n",
    "    if(num == 1):\n",
    "        print('The number is Happy')\n",
    "        break\n",
    "    if(num in numTrackList):\n",
    "        print('Number is NOT Happy')\n",
    "        break\n",
    "    else:\n",
    "        numTrackList.append(num)\n",
    "    "
   ]
  },
  {
   "cell_type": "code",
   "execution_count": 20,
   "metadata": {},
   "outputs": [
    {
     "name": "stdout",
     "output_type": "stream",
     "text": [
      "happy\n",
      "happy\n",
      "happy\n",
      "happy\n",
      "happy\n",
      "happy\n",
      "happy\n",
      "happy\n",
      "happy\n",
      "happy\n",
      "happy\n",
      "happy\n",
      "happy\n",
      "happy\n",
      "happy\n",
      "happy\n",
      "happy\n",
      "happy\n",
      "happy\n",
      "happy\n",
      "happy\n",
      "happy\n",
      "happy\n",
      "happy\n",
      "happy\n",
      "happy\n",
      "happy\n",
      "happy\n",
      "happy\n",
      "happy\n",
      "happy\n",
      "happy\n"
     ]
    }
   ],
   "source": [
    "nums = [1,7, 10, 13, 19, 23, 28, 31, 32, 44, 49, 68, 70, 79, 82, 86, 91, 94, 97, 100, 103, 109, 129, 130, 133, 139, 167, 176, 188, 190, 192, 193]\n",
    "\n",
    "for num in nums:\n",
    "    \n",
    "    mySet = []\n",
    "    \n",
    "    while num != 1:\n",
    "        numCopy = num\n",
    "        digitsSum = 0\n",
    "        \n",
    "        while numCopy != 0:\n",
    "            rem = numCopy % 10\n",
    "            digitsSum += rem * rem\n",
    "            numCopy = numCopy // 10\n",
    "        num = digitsSum\n",
    "        if(num in mySet):\n",
    "            print('not happy')\n",
    "            break\n",
    "        mySet.append(num)\n",
    "        \n",
    "    if(num == 1):\n",
    "        print('happy')"
   ]
  },
  {
   "cell_type": "code",
   "execution_count": null,
   "metadata": {},
   "outputs": [],
   "source": []
  },
  {
   "cell_type": "code",
   "execution_count": null,
   "metadata": {},
   "outputs": [],
   "source": []
  }
 ],
 "metadata": {
  "kernelspec": {
   "display_name": "Python 3",
   "language": "python",
   "name": "python3"
  },
  "language_info": {
   "codemirror_mode": {
    "name": "ipython",
    "version": 3
   },
   "file_extension": ".py",
   "mimetype": "text/x-python",
   "name": "python",
   "nbconvert_exporter": "python",
   "pygments_lexer": "ipython3",
   "version": "3.8.5"
  }
 },
 "nbformat": 4,
 "nbformat_minor": 4
}
