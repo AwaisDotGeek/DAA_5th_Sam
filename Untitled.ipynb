{
 "cells": [
  {
   "cell_type": "code",
   "execution_count": 20,
   "id": "eee38514",
   "metadata": {},
   "outputs": [
    {
     "name": "stdout",
     "output_type": "stream",
     "text": [
      "907412\n"
     ]
    }
   ],
   "source": [
    "# (divide opt => '/') (mod opt / remainder opt => '%')\n",
    "\n",
    "# 15 % 10 => \n",
    "\n",
    "num = 214709 # -> 14 -> 1\n",
    "\n",
    "# 7, 4, 1\n",
    "reverse = \"\"\n",
    "\n",
    "while num != 0:\n",
    "    rem = num % 10\n",
    "    reverse = reverse + str(rem)\n",
    "    num = num // 10\n",
    "\n",
    "print(reverse)"
   ]
  },
  {
   "cell_type": "code",
   "execution_count": 4,
   "id": "d0e7672d",
   "metadata": {},
   "outputs": [
    {
     "name": "stdout",
     "output_type": "stream",
     "text": [
      "14\n",
      "7\n"
     ]
    }
   ],
   "source": [
    "print( 147 // 10) # => 14\n",
    "print(147 % 10) # => 1"
   ]
  },
  {
   "cell_type": "code",
   "execution_count": 16,
   "id": "b7a8a92d",
   "metadata": {},
   "outputs": [
    {
     "name": "stdout",
     "output_type": "stream",
     "text": [
      "0\n",
      "8\n"
     ]
    }
   ],
   "source": [
    "print(8 // 10) # => 0\n",
    "print(8 % 10) # => 8"
   ]
  },
  {
   "cell_type": "code",
   "execution_count": 30,
   "id": "ebb18c99",
   "metadata": {},
   "outputs": [
    {
     "name": "stdout",
     "output_type": "stream",
     "text": [
      "Before Loop: num = 1221, numCopy = 1221, rev = \n",
      "iteration number: 1, num => 122, numCopy => 1221, rev => 1\n",
      "iteration number: 2, num => 12, numCopy => 1221, rev => 12\n",
      "iteration number: 3, num => 1, numCopy => 1221, rev => 122\n",
      "iteration number: 4, num => 0, numCopy => 1221, rev => 1221\n",
      "Palindrome\n"
     ]
    }
   ],
   "source": [
    "# palindrome\n",
    "# 140 => 041\n",
    "# 141 => 141\n",
    "\n",
    "num = 47\n",
    "numCopy = num # 121\n",
    "rev = \"\" # 1+2+1 => \"121\"\n",
    "\n",
    "print(f'Before Loop: num = {num}, numCopy = {numCopy}, rev = {rev}')\n",
    "\n",
    "i = 1\n",
    "while num != 0: \n",
    "    rem = num % 10\n",
    "    rev = rev + str(rem)\n",
    "    num = num // 10\n",
    "    \n",
    "    print(f'iteration number: {i}, num => {num}, numCopy => {numCopy}, rev => {rev}')\n",
    "    \n",
    "    i += 1\n",
    "    \n",
    "\n",
    "if(numCopy == int(rev)):\n",
    "    print('Palindrome')\n",
    "else:\n",
    "    print('No-Palindrome')"
   ]
  },
  {
   "cell_type": "code",
   "execution_count": 45,
   "id": "ea64c527",
   "metadata": {},
   "outputs": [
    {
     "ename": "KeyboardInterrupt",
     "evalue": "",
     "output_type": "error",
     "traceback": [
      "\u001b[0;31m---------------------------------------------------------------------------\u001b[0m",
      "\u001b[0;31mKeyboardInterrupt\u001b[0m                         Traceback (most recent call last)",
      "\u001b[0;32m/tmp/ipykernel_107037/1378676742.py\u001b[0m in \u001b[0;36m<module>\u001b[0;34m\u001b[0m\n\u001b[1;32m     10\u001b[0m \u001b[0;34m\u001b[0m\u001b[0m\n\u001b[1;32m     11\u001b[0m \u001b[0;32mwhile\u001b[0m \u001b[0mnum\u001b[0m \u001b[0;34m!=\u001b[0m \u001b[0;36m1\u001b[0m\u001b[0;34m:\u001b[0m\u001b[0;34m\u001b[0m\u001b[0;34m\u001b[0m\u001b[0m\n\u001b[0;32m---> 12\u001b[0;31m     \u001b[0;32mwhile\u001b[0m \u001b[0mnum\u001b[0m \u001b[0;34m!=\u001b[0m \u001b[0;36m0\u001b[0m\u001b[0;34m:\u001b[0m\u001b[0;34m\u001b[0m\u001b[0;34m\u001b[0m\u001b[0m\n\u001b[0m\u001b[1;32m     13\u001b[0m         \u001b[0mrem\u001b[0m \u001b[0;34m=\u001b[0m \u001b[0mnum\u001b[0m \u001b[0;34m%\u001b[0m \u001b[0;36m10\u001b[0m\u001b[0;34m\u001b[0m\u001b[0;34m\u001b[0m\u001b[0m\n\u001b[1;32m     14\u001b[0m         \u001b[0mds\u001b[0m \u001b[0;34m=\u001b[0m \u001b[0mds\u001b[0m \u001b[0;34m+\u001b[0m \u001b[0;34m(\u001b[0m\u001b[0mrem\u001b[0m \u001b[0;34m*\u001b[0m \u001b[0mrem\u001b[0m\u001b[0;34m)\u001b[0m\u001b[0;34m\u001b[0m\u001b[0;34m\u001b[0m\u001b[0m\n",
      "\u001b[0;31mKeyboardInterrupt\u001b[0m: "
     ]
    }
   ],
   "source": [
    "# happy number\n",
    "# 19 => 82 => 68 => 100 => 1\n",
    "# 7 => 49 => 97 => 130 => 10 => 1\n",
    "# 8 => 64 => 52 => 29 => 85 => 89 => 145 => 42 => 20 => 4 => 16 => 37 => 58 => 89  \n",
    "# 47 => (7)^2 + (4)^2\n",
    "\n",
    "\n",
    "num = 8 \n",
    "ds = 0\n",
    "\n",
    "while num != 1:\n",
    "    while num != 0:\n",
    "        rem = num % 10\n",
    "        ds = ds + (rem * rem)\n",
    "        num = num // 10\n",
    "    num = ds\n",
    "    ds = 0\n",
    "    if(num == 1):\n",
    "        print('number is happy')"
   ]
  },
  {
   "cell_type": "code",
   "execution_count": null,
   "id": "596f8be1",
   "metadata": {},
   "outputs": [],
   "source": []
  }
 ],
 "metadata": {
  "kernelspec": {
   "display_name": "Python 3 (ipykernel)",
   "language": "python",
   "name": "python3"
  },
  "language_info": {
   "codemirror_mode": {
    "name": "ipython",
    "version": 3
   },
   "file_extension": ".py",
   "mimetype": "text/x-python",
   "name": "python",
   "nbconvert_exporter": "python",
   "pygments_lexer": "ipython3",
   "version": "3.10.7"
  }
 },
 "nbformat": 4,
 "nbformat_minor": 5
}
